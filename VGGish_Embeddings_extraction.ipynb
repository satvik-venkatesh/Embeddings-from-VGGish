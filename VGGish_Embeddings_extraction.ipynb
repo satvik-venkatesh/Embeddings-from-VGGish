{
  "nbformat": 4,
  "nbformat_minor": 0,
  "metadata": {
    "colab": {
      "name": "VGGish Embeddings extraction.ipynb",
      "provenance": [],
      "collapsed_sections": [],
      "toc_visible": true,
      "include_colab_link": true
    },
    "kernelspec": {
      "name": "python2",
      "display_name": "Python 2"
    }
  },
  "cells": [
    {
      "cell_type": "markdown",
      "metadata": {
        "id": "view-in-github",
        "colab_type": "text"
      },
      "source": [
        "<a href=\"https://colab.research.google.com/github/satvik94/Embeddings-from-VGGish/blob/master/VGGish_Embeddings_extraction.ipynb\" target=\"_parent\"><img src=\"https://colab.research.google.com/assets/colab-badge.svg\" alt=\"Open In Colab\"/></a>"
      ]
    },
    {
      "cell_type": "markdown",
      "metadata": {
        "id": "PPUqQtVHKggi",
        "colab_type": "text"
      },
      "source": [
        "#Extracting Audio Embeddings through VGGish"
      ]
    },
    {
      "cell_type": "markdown",
      "metadata": {
        "id": "lD904YJP4QIr",
        "colab_type": "text"
      },
      "source": [
        "This colab extracts audio embeddings of sound files through VGGish. Section 1 imports the VGGish System. Section 2 extracts the audio embeddings of sound files into a numpy array. "
      ]
    },
    {
      "cell_type": "markdown",
      "metadata": {
        "id": "PAE4O-fK-RW2",
        "colab_type": "text"
      },
      "source": [
        "#1. Importing and Testing the VGGish System"
      ]
    },
    {
      "cell_type": "markdown",
      "metadata": {
        "id": "IKSLc0bIB1QS",
        "colab_type": "text"
      },
      "source": [
        "Based on the directions at: https://github.com/tensorflow/models/tree/master/research/audioset"
      ]
    },
    {
      "cell_type": "code",
      "metadata": {
        "id": "O1YVQb-MBiUx",
        "colab_type": "code",
        "outputId": "bb7594f5-8798-41fd-9637-2c21e5dc81d5",
        "colab": {
          "base_uri": "https://localhost:8080/",
          "height": 751
        }
      },
      "source": [
        "!pip install numpy scipy\n",
        "!pip install resampy tensorflow six\n",
        "!pip install tf_slim\n",
        "!pip install soundfile"
      ],
      "execution_count": 0,
      "outputs": [
        {
          "output_type": "stream",
          "text": [
            "Requirement already satisfied: numpy in /usr/local/lib/python2.7/dist-packages (1.16.4)\n",
            "Requirement already satisfied: scipy in /usr/local/lib/python2.7/dist-packages (1.2.2)\n",
            "Requirement already satisfied: resampy in /usr/local/lib/python2.7/dist-packages (0.2.1)\n",
            "Requirement already satisfied: tensorflow in /tensorflow-1.15.0/python2.7 (1.15.0)\n",
            "Requirement already satisfied: six in /usr/local/lib/python2.7/dist-packages (1.12.0)\n",
            "Requirement already satisfied: numba>=0.32 in /usr/local/lib/python2.7/dist-packages (from resampy) (0.40.1)\n",
            "Requirement already satisfied: scipy>=0.13 in /usr/local/lib/python2.7/dist-packages (from resampy) (1.2.2)\n",
            "Requirement already satisfied: numpy>=1.10 in /usr/local/lib/python2.7/dist-packages (from resampy) (1.16.4)\n",
            "Requirement already satisfied: gast==0.2.2 in /usr/local/lib/python2.7/dist-packages (from tensorflow) (0.2.2)\n",
            "Requirement already satisfied: grpcio>=1.8.6 in /usr/local/lib/python2.7/dist-packages (from tensorflow) (1.15.0)\n",
            "Requirement already satisfied: functools32>=3.2.3 in /usr/local/lib/python2.7/dist-packages (from tensorflow) (3.2.3.post2)\n",
            "Requirement already satisfied: tensorboard<1.16.0,>=1.15.0 in /tensorflow-1.15.0/python2.7 (from tensorflow) (1.15.0)\n",
            "Requirement already satisfied: protobuf>=3.6.1 in /usr/local/lib/python2.7/dist-packages (from tensorflow) (3.8.0)\n",
            "Requirement already satisfied: keras-preprocessing>=1.0.5 in /usr/local/lib/python2.7/dist-packages (from tensorflow) (1.1.0)\n",
            "Requirement already satisfied: backports.weakref>=1.0rc1; python_version < \"3.4\" in /usr/local/lib/python2.7/dist-packages (from tensorflow) (1.0.post1)\n",
            "Requirement already satisfied: tensorflow-estimator==1.15.1 in /usr/local/lib/python2.7/dist-packages (from tensorflow) (1.15.1)\n",
            "Requirement already satisfied: keras-applications>=1.0.8 in /usr/local/lib/python2.7/dist-packages (from tensorflow) (1.0.8)\n",
            "Requirement already satisfied: wheel in /usr/local/lib/python2.7/dist-packages (from tensorflow) (0.34.2)\n",
            "Requirement already satisfied: wrapt>=1.11.1 in /usr/local/lib/python2.7/dist-packages (from tensorflow) (1.11.2)\n",
            "Requirement already satisfied: absl-py>=0.7.0 in /usr/local/lib/python2.7/dist-packages (from tensorflow) (0.7.1)\n",
            "Requirement already satisfied: opt-einsum>=2.3.2 in /usr/local/lib/python2.7/dist-packages (from tensorflow) (2.3.2)\n",
            "Requirement already satisfied: mock>=2.0.0 in /usr/local/lib/python2.7/dist-packages (from tensorflow) (2.0.0)\n",
            "Requirement already satisfied: termcolor>=1.1.0 in /usr/local/lib/python2.7/dist-packages (from tensorflow) (1.1.0)\n",
            "Requirement already satisfied: google-pasta>=0.1.6 in /usr/local/lib/python2.7/dist-packages (from tensorflow) (0.1.7)\n",
            "Requirement already satisfied: enum34>=1.1.6; python_version < \"3.4\" in /usr/local/lib/python2.7/dist-packages (from tensorflow) (1.1.6)\n",
            "Requirement already satisfied: astor>=0.6.0 in /usr/local/lib/python2.7/dist-packages (from tensorflow) (0.8.0)\n",
            "Requirement already satisfied: funcsigs in /usr/local/lib/python2.7/dist-packages (from numba>=0.32->resampy) (1.0.2)\n",
            "Requirement already satisfied: llvmlite>=0.25.0dev0 in /usr/local/lib/python2.7/dist-packages (from numba>=0.32->resampy) (0.29.0)\n",
            "Requirement already satisfied: singledispatch in /usr/local/lib/python2.7/dist-packages (from numba>=0.32->resampy) (3.4.0.3)\n",
            "Requirement already satisfied: futures>=2.2.0 in /usr/local/lib/python2.7/dist-packages (from grpcio>=1.8.6->tensorflow) (3.2.0)\n",
            "Requirement already satisfied: setuptools>=41.0.0 in /usr/local/lib/python2.7/dist-packages (from tensorboard<1.16.0,>=1.15.0->tensorflow) (44.0.0)\n",
            "Requirement already satisfied: werkzeug>=0.11.15 in /usr/local/lib/python2.7/dist-packages (from tensorboard<1.16.0,>=1.15.0->tensorflow) (0.15.5)\n",
            "Requirement already satisfied: markdown>=2.6.8 in /usr/local/lib/python2.7/dist-packages (from tensorboard<1.16.0,>=1.15.0->tensorflow) (3.1.1)\n",
            "Requirement already satisfied: h5py in /usr/local/lib/python2.7/dist-packages (from keras-applications>=1.0.8->tensorflow) (2.8.0)\n",
            "Requirement already satisfied: pbr>=0.11 in /usr/local/lib/python2.7/dist-packages (from mock>=2.0.0->tensorflow) (5.4.0)\n",
            "Requirement already satisfied: tf_slim in /usr/local/lib/python2.7/dist-packages (1.0)\n",
            "Requirement already satisfied: absl-py>=0.2.2 in /usr/local/lib/python2.7/dist-packages (from tf_slim) (0.7.1)\n",
            "Requirement already satisfied: six in /usr/local/lib/python2.7/dist-packages (from absl-py>=0.2.2->tf_slim) (1.12.0)\n",
            "Requirement already satisfied: enum34; python_version < \"3.4\" in /usr/local/lib/python2.7/dist-packages (from absl-py>=0.2.2->tf_slim) (1.1.6)\n",
            "Requirement already satisfied: soundfile in /usr/local/lib/python2.7/dist-packages (0.10.3.post1)\n",
            "Requirement already satisfied: cffi>=1.0 in /usr/local/lib/python2.7/dist-packages (from soundfile) (1.12.3)\n",
            "Requirement already satisfied: pycparser in /usr/local/lib/python2.7/dist-packages (from cffi>=1.0->soundfile) (2.19)\n"
          ],
          "name": "stdout"
        }
      ]
    },
    {
      "cell_type": "code",
      "metadata": {
        "id": "kN7yMJ3BBu_Q",
        "colab_type": "code",
        "outputId": "dc5b8f78-b209-4bab-ce4c-c36b148600a8",
        "colab": {
          "base_uri": "https://localhost:8080/",
          "height": 34
        }
      },
      "source": [
        "!git clone https://github.com/tensorflow/models.git"
      ],
      "execution_count": 0,
      "outputs": [
        {
          "output_type": "stream",
          "text": [
            "fatal: destination path 'models' already exists and is not an empty directory.\n"
          ],
          "name": "stdout"
        }
      ]
    },
    {
      "cell_type": "code",
      "metadata": {
        "id": "jOutr-RFCFfD",
        "colab_type": "code",
        "outputId": "8ed2d932-82d6-40fb-d9a0-07375eb32818",
        "colab": {
          "base_uri": "https://localhost:8080/",
          "height": 34
        }
      },
      "source": [
        "# Check to see where are in the kernel's file system.\n",
        "!pwd"
      ],
      "execution_count": 0,
      "outputs": [
        {
          "output_type": "stream",
          "text": [
            "/content\n"
          ],
          "name": "stdout"
        }
      ]
    },
    {
      "cell_type": "code",
      "metadata": {
        "id": "7CVgYDQ2CG4K",
        "colab_type": "code",
        "outputId": "eef0ebad-8e20-4828-a191-157c105123e8",
        "colab": {
          "base_uri": "https://localhost:8080/",
          "height": 119
        }
      },
      "source": [
        "# Grab the VGGish model\n",
        "!curl -O https://storage.googleapis.com/audioset/vggish_model.ckpt\n",
        "!curl -O https://storage.googleapis.com/audioset/vggish_pca_params.npz"
      ],
      "execution_count": 0,
      "outputs": [
        {
          "output_type": "stream",
          "text": [
            "  % Total    % Received % Xferd  Average Speed   Time    Time     Time  Current\n",
            "                                 Dload  Upload   Total   Spent    Left  Speed\n",
            "100  277M  100  277M    0     0   179M      0  0:00:01  0:00:01 --:--:--  179M\n",
            "  % Total    % Received % Xferd  Average Speed   Time    Time     Time  Current\n",
            "                                 Dload  Upload   Total   Spent    Left  Speed\n",
            "100 73020  100 73020    0     0  4456k      0 --:--:-- --:--:-- --:--:-- 4456k\n"
          ],
          "name": "stdout"
        }
      ]
    },
    {
      "cell_type": "code",
      "metadata": {
        "id": "xEl3w-RjCPwp",
        "colab_type": "code",
        "outputId": "8c5eca66-ea90-48d5-a868-1810277c43a6",
        "colab": {
          "base_uri": "https://localhost:8080/",
          "height": 136
        }
      },
      "source": [
        "# Make sure we got the model data.\n",
        "!ls"
      ],
      "execution_count": 0,
      "outputs": [
        {
          "output_type": "stream",
          "text": [
            "mel_features.py\t\t  vggish_input.pyc\t  vggish_slim.py\n",
            "mel_features.pyc\t  vggish_model.ckpt\t  vggish_slim.pyc\n",
            "models\t\t\t  vggish_params.py\t  vggish_smoke_test.py\n",
            "README.md\t\t  vggish_params.pyc\t  vggish_smoke_test.pyc\n",
            "sample_data\t\t  vggish_pca_params.npz   vggish_train_demo.py\n",
            "vggish_inference_demo.py  vggish_postprocess.py\n",
            "vggish_input.py\t\t  vggish_postprocess.pyc\n"
          ],
          "name": "stdout"
        }
      ]
    },
    {
      "cell_type": "code",
      "metadata": {
        "id": "WbtPmmX-CTHB",
        "colab_type": "code",
        "outputId": "aedacc91-1507-416d-d50d-057d8974b366",
        "colab": {
          "base_uri": "https://localhost:8080/",
          "height": 68
        }
      },
      "source": [
        "# Verify the location of the VGGish source files\n",
        "!ls models/research/audioset/vggish"
      ],
      "execution_count": 0,
      "outputs": [
        {
          "output_type": "stream",
          "text": [
            "mel_features.py\t\t  vggish_input.py\t vggish_slim.py\n",
            "README.md\t\t  vggish_params.py\t vggish_smoke_test.py\n",
            "vggish_inference_demo.py  vggish_postprocess.py  vggish_train_demo.py\n"
          ],
          "name": "stdout"
        }
      ]
    },
    {
      "cell_type": "code",
      "metadata": {
        "id": "oApFn6gzCvsa",
        "colab_type": "code",
        "colab": {}
      },
      "source": [
        "# Copy the source files to the current directory.\n",
        "!cp models/research/audioset/vggish/* ."
      ],
      "execution_count": 0,
      "outputs": []
    },
    {
      "cell_type": "code",
      "metadata": {
        "id": "DaMrmOEvC7L4",
        "colab_type": "code",
        "outputId": "34fd2c3a-51d6-493c-b6d2-0c0dae7dd72d",
        "colab": {
          "base_uri": "https://localhost:8080/",
          "height": 136
        }
      },
      "source": [
        "# Make sure the source files got copied correctly.\n",
        "!ls"
      ],
      "execution_count": 0,
      "outputs": [
        {
          "output_type": "stream",
          "text": [
            "mel_features.py\t\t  vggish_input.pyc\t  vggish_slim.py\n",
            "mel_features.pyc\t  vggish_model.ckpt\t  vggish_slim.pyc\n",
            "models\t\t\t  vggish_params.py\t  vggish_smoke_test.py\n",
            "README.md\t\t  vggish_params.pyc\t  vggish_smoke_test.pyc\n",
            "sample_data\t\t  vggish_pca_params.npz   vggish_train_demo.py\n",
            "vggish_inference_demo.py  vggish_postprocess.py\n",
            "vggish_input.py\t\t  vggish_postprocess.pyc\n"
          ],
          "name": "stdout"
        }
      ]
    },
    {
      "cell_type": "code",
      "metadata": {
        "id": "9BKF-1dzDhnz",
        "colab_type": "code",
        "colab": {}
      },
      "source": [
        "# Run the test, which also loads all the necessary functions.\n",
        "from vggish_smoke_test import *"
      ],
      "execution_count": 0,
      "outputs": []
    },
    {
      "cell_type": "code",
      "metadata": {
        "id": "_7t20mo27zKf",
        "colab_type": "code",
        "colab": {}
      },
      "source": [
        "import vggish_slim\n",
        "import vggish_params\n",
        "import vggish_input\n",
        "import soundfile as sf\n",
        "\n",
        "def CreateVGGishNetwork(hop_size=0.96):   # Hop size is in seconds.\n",
        "  \"\"\"Define VGGish model, load the checkpoint, and return a dictionary that points\n",
        "  to the different tensors defined by the model.\n",
        "  \"\"\"\n",
        "  vggish_slim.define_vggish_slim()\n",
        "  checkpoint_path = 'vggish_model.ckpt'\n",
        "  vggish_params.EXAMPLE_HOP_SECONDS = hop_size\n",
        "  \n",
        "  vggish_slim.load_vggish_slim_checkpoint(sess, checkpoint_path)\n",
        "\n",
        "  features_tensor = sess.graph.get_tensor_by_name(\n",
        "      vggish_params.INPUT_TENSOR_NAME)\n",
        "  embedding_tensor = sess.graph.get_tensor_by_name(\n",
        "      vggish_params.OUTPUT_TENSOR_NAME)\n",
        "\n",
        "  layers = {'conv1': 'vggish/conv1/Relu',\n",
        "            'pool1': 'vggish/pool1/MaxPool',\n",
        "            'conv2': 'vggish/conv2/Relu',\n",
        "            'pool2': 'vggish/pool2/MaxPool',\n",
        "            'conv3': 'vggish/conv3/conv3_2/Relu',\n",
        "            'pool3': 'vggish/pool3/MaxPool',\n",
        "            'conv4': 'vggish/conv4/conv4_2/Relu',\n",
        "            'pool4': 'vggish/pool4/MaxPool',\n",
        "            'fc1': 'vggish/fc1/fc1_2/Relu',\n",
        "            'fc2': 'vggish/fc2/Relu',\n",
        "            'embedding': 'vggish/embedding',\n",
        "            'features': 'vggish/input_features',\n",
        "         }\n",
        "  g = tf.get_default_graph()\n",
        "  for k in layers:\n",
        "    layers[k] = g.get_tensor_by_name( layers[k] + ':0')\n",
        "    \n",
        "  return {'features': features_tensor,\n",
        "          'embedding': embedding_tensor,\n",
        "          'layers': layers,\n",
        "         }"
      ],
      "execution_count": 0,
      "outputs": []
    },
    {
      "cell_type": "code",
      "metadata": {
        "id": "rPYpQeiaIKpT",
        "colab_type": "code",
        "colab": {}
      },
      "source": [
        "def EmbeddingsFromVGGish(vgg, x, sr):\n",
        "  '''Run the VGGish model, starting with a sound (x) at sample rate\n",
        "  (sr). Return a dictionary of embeddings from the different layers\n",
        "  of the model.'''\n",
        "  # Produce a batch of log mel spectrogram examples.\n",
        "  input_batch = vggish_input.waveform_to_examples(x, sr)\n",
        "  # print('Log Mel Spectrogram example: ', input_batch[0])\n",
        "\n",
        "  layer_names = vgg['layers'].keys()\n",
        "  tensors = [vgg['layers'][k] for k in layer_names]\n",
        "  \n",
        "  results = sess.run(tensors,\n",
        "                     feed_dict={vgg['features']: input_batch})\n",
        "\n",
        "  resdict = {}\n",
        "  for i, k in enumerate(layer_names):\n",
        "    resdict[k] = results[i]\n",
        "    \n",
        "  return resdict"
      ],
      "execution_count": 0,
      "outputs": []
    },
    {
      "cell_type": "markdown",
      "metadata": {
        "id": "egdUloOL5ZyL",
        "colab_type": "text"
      },
      "source": [
        "# 2. Extracting Audio Embeddings from VGGish"
      ]
    },
    {
      "cell_type": "code",
      "metadata": {
        "id": "67EWjWoo9G6g",
        "colab_type": "code",
        "colab": {}
      },
      "source": [
        "# Creating the network\n",
        "import tensorflow as tf\n",
        "tf.reset_default_graph()\n",
        "sess = tf.Session()\n",
        "\"\"\"\n",
        "The following number `t` represents how many seconds is fed into VGGish.\n",
        "If `t` is less than the duration `d` of the sound file, the sound file is divided \n",
        "into sections of `t` and separate embeddings are extracted. \n",
        "The remainder that is less than `t` is excluded. \n",
        "\"\"\"\n",
        "vgg = CreateVGGishNetwork(0.96) # `t` = 0.96\n"
      ],
      "execution_count": 0,
      "outputs": []
    },
    {
      "cell_type": "code",
      "metadata": {
        "id": "mTiCuvX8xo-4",
        "colab_type": "code",
        "outputId": "393db7dc-6352-4b41-fc1d-672b36ce2cd6",
        "colab": {
          "base_uri": "https://localhost:8080/",
          "height": 34
        }
      },
      "source": [
        "\"\"\" \n",
        "Import data into Colab.\n",
        "Load the wav files as a zip file into PWD. Name the zip file as 'sounds.zip'.\n",
        "\"\"\"\n",
        "from zipfile import ZipFile\n",
        "zip_name = \"sounds.zip\"\n",
        "\n",
        "with ZipFile(zip_name, 'r') as zip:\n",
        "  zip.extractall('sounds')\n",
        "  print(\"Extracted all sound files into the folder named 'sounds'!!\")"
      ],
      "execution_count": 0,
      "outputs": [
        {
          "output_type": "stream",
          "text": [
            "Extracted all sound files into the folder named 'sounds'!!\n"
          ],
          "name": "stdout"
        }
      ]
    },
    {
      "cell_type": "code",
      "metadata": {
        "id": "1KGPLqTy1r3J",
        "colab_type": "code",
        "outputId": "71e429f3-416a-4df3-bd4c-61d28c517c33",
        "colab": {
          "base_uri": "https://localhost:8080/",
          "height": 34
        }
      },
      "source": [
        "\"\"\"\n",
        "Load all the files into a list.\n",
        "\"\"\"\n",
        "import glob\n",
        "sounds = glob.glob('sounds/*.wav')\n",
        "print(\"The contents of the list are: {}\".format(sounds))"
      ],
      "execution_count": 0,
      "outputs": [
        {
          "output_type": "stream",
          "text": [
            "The contents of the list are: ['sounds/amal.wav', 'sounds/acomic.wav']\n"
          ],
          "name": "stdout"
        }
      ]
    },
    {
      "cell_type": "code",
      "metadata": {
        "id": "LJKSBjI04EM1",
        "colab_type": "code",
        "outputId": "a16b0d29-d073-40f9-cccd-a3ecd5aad556",
        "colab": {
          "base_uri": "https://localhost:8080/",
          "height": 85
        }
      },
      "source": [
        "\"\"\"\n",
        "This code cell extracts embeddings from the sound files added to the list. \n",
        "\"\"\"\n",
        "\n",
        "# Extract embeddings from first sound file.\n",
        "print(\"Extracting embeddings from \" + sounds[0])\n",
        "in_signal, in_sr = sf.read(sounds[0])\n",
        "resdict = EmbeddingsFromVGGish(vgg, in_signal, in_sr)\n",
        "em0 = resdict['embedding']\n",
        "em = np.copy(em0)\n",
        "\n",
        "# Extract embeddings from remaining files.\n",
        "for s in sounds[1:]:\n",
        "  print(\"Extracting embeddings from \" + s)\n",
        "  in_signal, in_sr = sf.read(s)\n",
        "  resdict = EmbeddingsFromVGGish(vgg, in_signal, in_sr)\n",
        "  em_s = resdict['embedding']\n",
        "  print(\"The shape of em_s is\" + str(em_s.shape))\n",
        "  em = np.concatenate((em, em_s), axis = 0) #em concatenates all the values of embeddings.\n",
        "  print(\"The shape of em is\" + str(em.shape))"
      ],
      "execution_count": 0,
      "outputs": [
        {
          "output_type": "stream",
          "text": [
            "Extracting embeddings from sounds/amal.wav\n",
            "Extracting embeddings from sounds/acomic.wav\n",
            "The shape of em_s is(31, 128)\n",
            "The shape of em is(62, 128)\n"
          ],
          "name": "stdout"
        }
      ]
    },
    {
      "cell_type": "code",
      "metadata": {
        "id": "fuuER6RGrjWR",
        "colab_type": "code",
        "colab": {}
      },
      "source": [
        "\"\"\"\n",
        "Store the audio embeddings into a file. This file can be copied into your hard disk for later use.\n",
        "\"\"\"\n",
        "np.save(\"embeddings.npy\", em)\n"
      ],
      "execution_count": 0,
      "outputs": []
    },
    {
      "cell_type": "code",
      "metadata": {
        "id": "VHpI6b4nsQhK",
        "colab_type": "code",
        "outputId": "96b3fdde-84d4-4e34-dd2f-23cf8a67186f",
        "colab": {
          "base_uri": "https://localhost:8080/",
          "height": 51
        }
      },
      "source": [
        "\"\"\"\n",
        "Load and test the numpy arrays\n",
        "\"\"\"\n",
        "em_load = np.load(\"embeddings.npy\")\n",
        "print(\"em_load shape is {}\".format(em_load.shape))\n",
        "\n",
        "print(\"Has the storing and loading worked correctly? {}\".format(np.array_equal(em, em_load)))"
      ],
      "execution_count": 0,
      "outputs": [
        {
          "output_type": "stream",
          "text": [
            "em_load shape is (62, 128)\n",
            "Has the storing and loading worked correctly? True\n"
          ],
          "name": "stdout"
        }
      ]
    }
  ]
}